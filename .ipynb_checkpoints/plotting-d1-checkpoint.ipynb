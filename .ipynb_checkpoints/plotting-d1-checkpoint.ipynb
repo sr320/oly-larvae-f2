{
 "metadata": {
  "name": "",
  "signature": "sha256:8e74033db57bc934d60e00be1db4be4fe60dfcb427f08ff15e2fb19fbca39575"
 },
 "nbformat": 3,
 "nbformat_minor": 0,
 "worksheets": [
  {
   "cells": [
    {
     "cell_type": "code",
     "collapsed": false,
     "input": [
      "import pandas as pd\n",
      "import numpy as np\n",
      "import matplotlib.pyplot as plt\n",
      "pd.__version__"
     ],
     "language": "python",
     "metadata": {},
     "outputs": [
      {
       "metadata": {},
       "output_type": "pyout",
       "prompt_number": 1,
       "text": [
        "'0.11.0'"
       ]
      }
     ],
     "prompt_number": 1
    },
    {
     "cell_type": "code",
     "collapsed": false,
     "input": [
      "%matplotlib inline\n"
     ],
     "language": "python",
     "metadata": {},
     "outputs": [],
     "prompt_number": 2
    },
    {
     "cell_type": "code",
     "collapsed": false,
     "input": [
      "df1=pd.read_csv(\"./Larval_counts_Day1.csv\")\n"
     ],
     "language": "python",
     "metadata": {},
     "outputs": [],
     "prompt_number": 7
    },
    {
     "cell_type": "code",
     "collapsed": false,
     "input": [],
     "language": "python",
     "metadata": {},
     "outputs": []
    },
    {
     "cell_type": "code",
     "collapsed": false,
     "input": [],
     "language": "python",
     "metadata": {},
     "outputs": []
    },
    {
     "cell_type": "code",
     "collapsed": false,
     "input": [],
     "language": "python",
     "metadata": {},
     "outputs": []
    },
    {
     "cell_type": "code",
     "collapsed": false,
     "input": [
      "!cat ./Larval_counts_Day1.csv"
     ],
     "language": "python",
     "metadata": {},
     "outputs": [
      {
       "output_type": "stream",
       "stream": "stdout",
       "text": [
        "Date,Family,Volume of tripour (mL),Ethanol used?,Count 1,Count 2,Count 3,Count 4,Total larvae,Notes,Dead count #1,Dead #2,Dead #3,Dead #4,Total Dead\r\n",
        "6/19/2015,HC2,800,no,35,37,36,37,29000,Collected Wed. 6/17 and put in 100 L tank,,,,,\r\n",
        "6/19/2015,SS1,700,no,41,54,93,82,47250,,,,,,\r\n",
        "6/19/2015,SS3,700,no,47,62,70,53,40600,,,,,,\r\n",
        "6/22/2015,SS5,600,yes,5,5,4,0,2100,,,,,,\r\n",
        "6/22/2015,HC2,700,yes,75,77,77,83,54600,,,,,,\r\n",
        "6/22/2015,SS3,650,yes,132,148,133,140,89862.5,,,,,,\r\n",
        "6/22/2015,HC4,400,yes,0,0,0,0,0,only collected small poop...,,,,,\r\n",
        "6/22/2015,SS4,400,yes,9,17,11,2,3900,,,,,,\r\n",
        "6/22/2015,SS1,600,yes,151,156,116,188,91650,,,,,,\r\n",
        "6/22/2015,HC5,400,yes,0,0,0,0,0,,,,,,\r\n",
        "6/22/2015,SS2,650,yes,142,139,135,126,88075,,,,,,\r\n",
        "6/24/2015,\"HC3, HC2\",550,yes,100,136,121,142,68612.5,\"S.R. counted, mostly HC3\",,,,,\r\n",
        "6/24/2015,\"SS5,SS2,SS4,SS3\",500,yes,10,3,2,3,2250,\"S.R. filtered out and counted, all had few in buckets\",2,4,2,6,1750\r\n",
        "6/24/2015,NF5,475,yes,120,106,125,114,55218.75,S.R. counted,1,2,2,0,593.75\r\n",
        ",,,,,,,,0,,,,,,0\r\n",
        ",,,,,,,,0,,,,,,0\r\n",
        ",,,,,,,,0,,,,,,0\r\n",
        ",,,,,,,,0,,,,,,0\r\n",
        ",,,,,,,,0,,,,,,0\r\n",
        ",,,,,,,,,,,,,,0\r\n",
        ",,,,,,,,,,,,,,0\r\n",
        ",,,,,,,,,,,,,,0\r\n",
        ",,,,,,,,,,,,,,0"
       ]
      }
     ],
     "prompt_number": 18
    },
    {
     "cell_type": "code",
     "collapsed": false,
     "input": [],
     "language": "python",
     "metadata": {},
     "outputs": []
    }
   ],
   "metadata": {}
  }
 ]
}