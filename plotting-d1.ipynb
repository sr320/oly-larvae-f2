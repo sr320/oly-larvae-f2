{
 "metadata": {
  "name": "",
  "signature": "sha256:3e81ca0713602cac9e85081f41e762bc89132677bd6ca7708ee16a3fe0ff0f23"
 },
 "nbformat": 3,
 "nbformat_minor": 0,
 "worksheets": [
  {
   "cells": [
    {
     "cell_type": "code",
     "collapsed": false,
     "input": [
      "import pandas as pd\n",
      "import numpy as np\n",
      "import matplotlib.pyplot as plt\n",
      "pd.__version__"
     ],
     "language": "python",
     "metadata": {},
     "outputs": [
      {
       "metadata": {},
       "output_type": "pyout",
       "prompt_number": 1,
       "text": [
        "'0.11.0'"
       ]
      }
     ],
     "prompt_number": 1
    },
    {
     "cell_type": "code",
     "collapsed": false,
     "input": [
      "%matplotlib inline\n"
     ],
     "language": "python",
     "metadata": {},
     "outputs": [],
     "prompt_number": 2
    },
    {
     "cell_type": "code",
     "collapsed": false,
     "input": [
      "df1=pd.read_csv(\"./Larval_counts_Day1.csv\")\n"
     ],
     "language": "python",
     "metadata": {},
     "outputs": [],
     "prompt_number": 7
    },
    {
     "cell_type": "code",
     "collapsed": false,
     "input": [
      "df1"
     ],
     "language": "python",
     "metadata": {},
     "outputs": [
      {
       "html": [
        "<pre>\n",
        "&ltclass 'pandas.core.frame.DataFrame'&gt\n",
        "Int64Index: 23 entries, 0 to 22\n",
        "Data columns (total 15 columns):\n",
        "Date                      14  non-null values\n",
        "Family                    14  non-null values\n",
        "Volume of tripour (mL)    14  non-null values\n",
        "Ethanol used?             14  non-null values\n",
        "Count 1                   14  non-null values\n",
        "Count 2                   14  non-null values\n",
        "Count 3                   14  non-null values\n",
        "Count 4                   14  non-null values\n",
        "Total larvae              19  non-null values\n",
        "Notes                     5  non-null values\n",
        "Dead count #1             2  non-null values\n",
        "Dead #2                   2  non-null values\n",
        "Dead #3                   2  non-null values\n",
        "Dead #4                   2  non-null values\n",
        "Total Dead                11  non-null values\n",
        "dtypes: float64(11), object(4)\n",
        "</pre>"
       ],
       "metadata": {},
       "output_type": "pyout",
       "prompt_number": 24,
       "text": [
        "         Date           Family  Volume of tripour (mL) Ethanol used?  Count 1  \\\n",
        "0   6/19/2015              HC2                     800            no       35   \n",
        "1   6/19/2015              SS1                     700            no       41   \n",
        "2   6/19/2015              SS3                     700            no       47   \n",
        "3   6/22/2015              SS5                     600           yes        5   \n",
        "4   6/22/2015              HC2                     700           yes       75   \n",
        "5   6/22/2015              SS3                     650           yes      132   \n",
        "6   6/22/2015              HC4                     400           yes        0   \n",
        "7   6/22/2015              SS4                     400           yes        9   \n",
        "8   6/22/2015              SS1                     600           yes      151   \n",
        "9   6/22/2015              HC5                     400           yes        0   \n",
        "10  6/22/2015              SS2                     650           yes      142   \n",
        "11  6/24/2015         HC3, HC2                     550           yes      100   \n",
        "12  6/24/2015  SS5,SS2,SS4,SS3                     500           yes       10   \n",
        "13  6/24/2015              NF5                     475           yes      120   \n",
        "14        NaN              NaN                     NaN           NaN      NaN   \n",
        "15        NaN              NaN                     NaN           NaN      NaN   \n",
        "16        NaN              NaN                     NaN           NaN      NaN   \n",
        "17        NaN              NaN                     NaN           NaN      NaN   \n",
        "18        NaN              NaN                     NaN           NaN      NaN   \n",
        "19        NaN              NaN                     NaN           NaN      NaN   \n",
        "20        NaN              NaN                     NaN           NaN      NaN   \n",
        "21        NaN              NaN                     NaN           NaN      NaN   \n",
        "22        NaN              NaN                     NaN           NaN      NaN   \n",
        "\n",
        "    Count 2  Count 3  Count 4  Total larvae  \\\n",
        "0        37       36       37      29000.00   \n",
        "1        54       93       82      47250.00   \n",
        "2        62       70       53      40600.00   \n",
        "3         5        4        0       2100.00   \n",
        "4        77       77       83      54600.00   \n",
        "5       148      133      140      89862.50   \n",
        "6         0        0        0          0.00   \n",
        "7        17       11        2       3900.00   \n",
        "8       156      116      188      91650.00   \n",
        "9         0        0        0          0.00   \n",
        "10      139      135      126      88075.00   \n",
        "11      136      121      142      68612.50   \n",
        "12        3        2        3       2250.00   \n",
        "13      106      125      114      55218.75   \n",
        "14      NaN      NaN      NaN          0.00   \n",
        "15      NaN      NaN      NaN          0.00   \n",
        "16      NaN      NaN      NaN          0.00   \n",
        "17      NaN      NaN      NaN          0.00   \n",
        "18      NaN      NaN      NaN          0.00   \n",
        "19      NaN      NaN      NaN           NaN   \n",
        "20      NaN      NaN      NaN           NaN   \n",
        "21      NaN      NaN      NaN           NaN   \n",
        "22      NaN      NaN      NaN           NaN   \n",
        "\n",
        "                                                Notes  Dead count #1  Dead #2  \\\n",
        "0           Collected Wed. 6/17 and put in 100 L tank            NaN      NaN   \n",
        "1                                                 NaN            NaN      NaN   \n",
        "2                                                 NaN            NaN      NaN   \n",
        "3                                                 NaN            NaN      NaN   \n",
        "4                                                 NaN            NaN      NaN   \n",
        "5                                                 NaN            NaN      NaN   \n",
        "6                        only collected small poop...            NaN      NaN   \n",
        "7                                                 NaN            NaN      NaN   \n",
        "8                                                 NaN            NaN      NaN   \n",
        "9                                                 NaN            NaN      NaN   \n",
        "10                                                NaN            NaN      NaN   \n",
        "11                           S.R. counted, mostly HC3            NaN      NaN   \n",
        "12  S.R. filtered out and counted, all had few in ...              2        4   \n",
        "13                                       S.R. counted              1        2   \n",
        "14                                                NaN            NaN      NaN   \n",
        "15                                                NaN            NaN      NaN   \n",
        "16                                                NaN            NaN      NaN   \n",
        "17                                                NaN            NaN      NaN   \n",
        "18                                                NaN            NaN      NaN   \n",
        "19                                                NaN            NaN      NaN   \n",
        "20                                                NaN            NaN      NaN   \n",
        "21                                                NaN            NaN      NaN   \n",
        "22                                                NaN            NaN      NaN   \n",
        "\n",
        "    Dead #3  Dead #4  Total Dead  \n",
        "0       NaN      NaN         NaN  \n",
        "1       NaN      NaN         NaN  \n",
        "2       NaN      NaN         NaN  \n",
        "3       NaN      NaN         NaN  \n",
        "4       NaN      NaN         NaN  \n",
        "5       NaN      NaN         NaN  \n",
        "6       NaN      NaN         NaN  \n",
        "7       NaN      NaN         NaN  \n",
        "8       NaN      NaN         NaN  \n",
        "9       NaN      NaN         NaN  \n",
        "10      NaN      NaN         NaN  \n",
        "11      NaN      NaN         NaN  \n",
        "12        2        6     1750.00  \n",
        "13        2        0      593.75  \n",
        "14      NaN      NaN        0.00  \n",
        "15      NaN      NaN        0.00  \n",
        "16      NaN      NaN        0.00  \n",
        "17      NaN      NaN        0.00  \n",
        "18      NaN      NaN        0.00  \n",
        "19      NaN      NaN        0.00  \n",
        "20      NaN      NaN        0.00  \n",
        "21      NaN      NaN        0.00  \n",
        "22      NaN      NaN        0.00  "
       ]
      }
     ],
     "prompt_number": 24
    },
    {
     "cell_type": "code",
     "collapsed": false,
     "input": [],
     "language": "python",
     "metadata": {},
     "outputs": []
    },
    {
     "cell_type": "code",
     "collapsed": false,
     "input": [],
     "language": "python",
     "metadata": {},
     "outputs": []
    },
    {
     "cell_type": "code",
     "collapsed": false,
     "input": [
      "!cat ./Larval_counts_Day1.csv"
     ],
     "language": "python",
     "metadata": {},
     "outputs": [
      {
       "output_type": "stream",
       "stream": "stdout",
       "text": [
        "Date,Family,Volume of tripour (mL),Ethanol used?,Count 1,Count 2,Count 3,Count 4,Total larvae,Notes,Dead count #1,Dead #2,Dead #3,Dead #4,Total Dead\r\n",
        "6/19/2015,HC2,800,no,35,37,36,37,29000,Collected Wed. 6/17 and put in 100 L tank,,,,,\r\n",
        "6/19/2015,SS1,700,no,41,54,93,82,47250,,,,,,\r\n",
        "6/19/2015,SS3,700,no,47,62,70,53,40600,,,,,,\r\n",
        "6/22/2015,SS5,600,yes,5,5,4,0,2100,,,,,,\r\n",
        "6/22/2015,HC2,700,yes,75,77,77,83,54600,,,,,,\r\n",
        "6/22/2015,SS3,650,yes,132,148,133,140,89862.5,,,,,,\r\n",
        "6/22/2015,HC4,400,yes,0,0,0,0,0,only collected small poop...,,,,,\r\n",
        "6/22/2015,SS4,400,yes,9,17,11,2,3900,,,,,,\r\n",
        "6/22/2015,SS1,600,yes,151,156,116,188,91650,,,,,,\r\n",
        "6/22/2015,HC5,400,yes,0,0,0,0,0,,,,,,\r\n",
        "6/22/2015,SS2,650,yes,142,139,135,126,88075,,,,,,\r\n",
        "6/24/2015,\"HC3, HC2\",550,yes,100,136,121,142,68612.5,\"S.R. counted, mostly HC3\",,,,,\r\n",
        "6/24/2015,\"SS5,SS2,SS4,SS3\",500,yes,10,3,2,3,2250,\"S.R. filtered out and counted, all had few in buckets\",2,4,2,6,1750\r\n",
        "6/24/2015,NF5,475,yes,120,106,125,114,55218.75,S.R. counted,1,2,2,0,593.75\r\n",
        ",,,,,,,,0,,,,,,0\r\n",
        ",,,,,,,,0,,,,,,0\r\n",
        ",,,,,,,,0,,,,,,0\r\n",
        ",,,,,,,,0,,,,,,0\r\n",
        ",,,,,,,,0,,,,,,0\r\n",
        ",,,,,,,,,,,,,,0\r\n",
        ",,,,,,,,,,,,,,0\r\n",
        ",,,,,,,,,,,,,,0\r\n",
        ",,,,,,,,,,,,,,0"
       ]
      }
     ],
     "prompt_number": 18
    },
    {
     "cell_type": "code",
     "collapsed": false,
     "input": [
      "!cut -f1 ./Larval_counts_Day1.csv"
     ],
     "language": "python",
     "metadata": {},
     "outputs": [
      {
       "output_type": "stream",
       "stream": "stdout",
       "text": [
        "Date,Family,Volume of tripour (mL),Ethanol used?,Count 1,Count 2,Count 3,Count 4,Total larvae,Notes,Dead count #1,Dead #2,Dead #3,Dead #4,Total Dead\r\n",
        "6/19/2015,HC2,800,no,35,37,36,37,29000,Collected Wed. 6/17 and put in 100 L tank,,,,,\r\n",
        "6/19/2015,SS1,700,no,41,54,93,82,47250,,,,,,\r\n",
        "6/19/2015,SS3,700,no,47,62,70,53,40600,,,,,,\r\n",
        "6/22/2015,SS5,600,yes,5,5,4,0,2100,,,,,,\r\n",
        "6/22/2015,HC2,700,yes,75,77,77,83,54600,,,,,,\r\n",
        "6/22/2015,SS3,650,yes,132,148,133,140,89862.5,,,,,,\r\n",
        "6/22/2015,HC4,400,yes,0,0,0,0,0,only collected small poop...,,,,,\r\n",
        "6/22/2015,SS4,400,yes,9,17,11,2,3900,,,,,,\r\n",
        "6/22/2015,SS1,600,yes,151,156,116,188,91650,,,,,,\r\n",
        "6/22/2015,HC5,400,yes,0,0,0,0,0,,,,,,\r\n",
        "6/22/2015,SS2,650,yes,142,139,135,126,88075,,,,,,\r\n",
        "6/24/2015,\"HC3, HC2\",550,yes,100,136,121,142,68612.5,\"S.R. counted, mostly HC3\",,,,,\r\n",
        "6/24/2015,\"SS5,SS2,SS4,SS3\",500,yes,10,3,2,3,2250,\"S.R. filtered out and counted, all had few in buckets\",2,4,2,6,1750\r\n",
        "6/24/2015,NF5,475,yes,120,106,125,114,55218.75,S.R. counted,1,2,2,0,593.75\r\n",
        ",,,,,,,,0,,,,,,0\r\n",
        ",,,,,,,,0,,,,,,0\r\n",
        ",,,,,,,,0,,,,,,0\r\n",
        ",,,,,,,,0,,,,,,0\r\n",
        ",,,,,,,,0,,,,,,0\r\n",
        ",,,,,,,,,,,,,,0\r\n",
        ",,,,,,,,,,,,,,0\r\n",
        ",,,,,,,,,,,,,,0\r\n",
        ",,,,,,,,,,,,,,0"
       ]
      }
     ],
     "prompt_number": 26
    },
    {
     "cell_type": "code",
     "collapsed": false,
     "input": [],
     "language": "python",
     "metadata": {},
     "outputs": []
    }
   ],
   "metadata": {}
  }
 ]
}